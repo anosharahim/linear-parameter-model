{
 "cells": [
  {
   "cell_type": "markdown",
   "id": "3b9d7b8b",
   "metadata": {},
   "source": [
    "# Yosemite Village yearly weather"
   ]
  },
  {
   "cell_type": "markdown",
   "id": "1b553f35",
   "metadata": {},
   "source": [
    "## Part 0 - Data Preprocessing \n",
    "Temperature is cyclical, not only on a 24 hour basis but also on a yearly basis. Convert the dataset into a richer format whereby the day of the year is also captured. For example the time “20150212 1605”, can be converted into (43, 965) because the 12th of February is the 43rd day of the year, and 16:05 is the 965th minute of the day.\n",
    "\n",
    "This data covers 6 years, so split the data into a training set of the first 5 years, and a testing set of the 6th year."
   ]
  },
  {
   "cell_type": "code",
   "execution_count": 3,
   "id": "b152beb3",
   "metadata": {},
   "outputs": [],
   "source": [
    "import numpy as np\n",
    "import pandas as pd\n",
    "from datetime import datetime\n",
    "from datetime import date\n"
   ]
  },
  {
   "cell_type": "code",
   "execution_count": 4,
   "id": "c76c9a54",
   "metadata": {},
   "outputs": [],
   "source": [
    "years = range(2011, 2017) \n",
    "files = ['CRNS0101-05-%d-CA_Yosemite_Village_12_W.txt' % y for y in years]\n",
    "\n",
    "usecols = [1, 2, 8] #[UTC_time, UTC date, Temperature]\n",
    "tr = [np.loadtxt(f, usecols=usecols) for f in files]\n",
    "ts = np.loadtxt('CRNS0101-05-2016-CA_Yosemite_Village_12_W.txt', usecols=usecols)"
   ]
  },
  {
   "cell_type": "code",
   "execution_count": 3,
   "id": "a9051699",
   "metadata": {},
   "outputs": [],
   "source": [
    "## TEST SET ## \n",
    "\n",
    "#convert dates from YYYYMMDD format to days since start of year\n",
    "ts_year = '20160101'\n",
    "ts_year_start = datetime.strptime(ts_year, '%Y%m%d')\n",
    "ts_date=pd.to_datetime(ts[:,0], format='%Y%m%d')\n",
    "ts_date.to_numpy()\n",
    "ts_days = ts_date - ts_year_start \n",
    "\n",
    "#convert time of day from HHMM to minutes since start of day \n",
    "hour_mins = np.divmod(ts[:,1],np.full((105408,), 100)) #two rows for hour and minutes each\n",
    "ts_minutes = (hour_mins[0]*60)+hour_mins[1] #add them together to get new array of time \n",
    "ts_minutes = ts_minutes.astype(int)\n",
    "\n",
    "\n",
    "## TRAIN SET ## \n",
    "\n",
    "tr_years = ['20110101','20120101','20130101','20140101','20150101']\n",
    "train_dates = [] #list for arrays of days for each year \n",
    "train_minutes = [] #list for array of day minutes for each year\n",
    "for i in range(len(tr_years)):\n",
    "    #convert date \n",
    "    tr_year_start = datetime.strptime(tr_years[i], '%Y%m%d')\n",
    "    year_data = tr[i]\n",
    "    year_data=pd.to_datetime(year_data[:,0], format='%Y%m%d')\n",
    "    year_data.to_numpy()\n",
    "    year_data = year_data - tr_year_start \n",
    "    train_dates.append(year_data)\n",
    "    #convert time\n",
    "    h_n_m = np.divmod(ts[:,1],np.full((105408,), 100))\n",
    "    train_minutes.append((h_n_m[0]*60)+h_n_m[1])\n",
    "\n",
    "    \n",
    "#merge everything into the same arrays \n"
   ]
  },
  {
   "cell_type": "markdown",
   "id": "e11d4e49",
   "metadata": {},
   "source": [
    "### Part 1 - Applying Radial Basis Functions \n",
    "Cover each input dimension with a list of radial basis functions. This turns the pair of inputs into a much richer representation, mapping (d,t) into (Φ₁(d), Φ₂(t)). Experiment with different numbers of radial basis functions and different widths of the radial basis function in different dimensions."
   ]
  },
  {
   "cell_type": "code",
   "execution_count": null,
   "id": "0b3fb04b",
   "metadata": {},
   "outputs": [],
   "source": []
  },
  {
   "cell_type": "markdown",
   "id": "d2f82b68",
   "metadata": {},
   "source": [
    "### Part 2 - Build Linear Parameter Model \n",
    "Using this new representation, build a linear parameter model that captures both seasonal variations and daily variations."
   ]
  },
  {
   "cell_type": "code",
   "execution_count": null,
   "id": "12823742",
   "metadata": {},
   "outputs": [],
   "source": []
  },
  {
   "cell_type": "markdown",
   "id": "94d7eb6e",
   "metadata": {},
   "source": [
    "## Part 3 - Visualization\n",
    "- Create two plots, one showing the time-of-day contribution, and one showing the time-of-year contribution.\n",
    "- (Optional) Make a 3D plot showing temperature as a function of (day, time). Make sure to label your axes!"
   ]
  },
  {
   "cell_type": "code",
   "execution_count": null,
   "id": "1c587769",
   "metadata": {},
   "outputs": [],
   "source": []
  },
  {
   "cell_type": "markdown",
   "id": "ea517c56",
   "metadata": {},
   "source": [
    "## Part 4 - Evaluation \n",
    "Using R², quantify how your model performs on the testing data if you:\n",
    "- Train with just the daily component of the model\n",
    "- Train with just the yearly component of the model\n",
    "- Train with the full model."
   ]
  },
  {
   "cell_type": "code",
   "execution_count": 6,
   "id": "e64a8239",
   "metadata": {
    "scrolled": true
   },
   "outputs": [
    {
     "name": "stdout",
     "output_type": "stream",
     "text": [
      "[[ 2.0110101e+07  5.0000000e+00 -6.4000000e+00]\n",
      " [ 2.0110101e+07  1.0000000e+01 -6.5000000e+00]\n",
      " [ 2.0110101e+07  1.5000000e+01 -6.5000000e+00]\n",
      " ...\n",
      " [ 2.0161231e+07  2.3500000e+03  0.0000000e+00]\n",
      " [ 2.0161231e+07  2.3550000e+03 -1.0000000e-01]\n",
      " [ 2.0170101e+07  0.0000000e+00 -1.0000000e-01]]\n",
      "[1435.] [28.6]\n",
      "[0.] [-9.4]\n",
      "1000 1000\n",
      "Score on training data =  -1.492280899833423\n"
     ]
    },
    {
     "ename": "NameError",
     "evalue": "name 'sig' is not defined",
     "output_type": "error",
     "traceback": [
      "\u001b[0;31m---------------------------------------------------------------------------\u001b[0m",
      "\u001b[0;31mNameError\u001b[0m                                 Traceback (most recent call last)",
      "\u001b[0;32m/var/folders/9q/1_qpd4b14hb9pgg5pyh9fz2h0000gn/T/ipykernel_2864/1146351807.py\u001b[0m in \u001b[0;36m<module>\u001b[0;34m\u001b[0m\n\u001b[1;32m     53\u001b[0m \u001b[0;34m\u001b[0m\u001b[0m\n\u001b[1;32m     54\u001b[0m \u001b[0;31m# New representation:\u001b[0m\u001b[0;34m\u001b[0m\u001b[0;34m\u001b[0m\u001b[0;34m\u001b[0m\u001b[0m\n\u001b[0;32m---> 55\u001b[0;31m \u001b[0mexpanded_rbf\u001b[0m \u001b[0;34m=\u001b[0m \u001b[0mrbf_kernel\u001b[0m\u001b[0;34m(\u001b[0m\u001b[0mall_rbf\u001b[0m\u001b[0;34m,\u001b[0m \u001b[0my_train\u001b[0m\u001b[0;34m,\u001b[0m \u001b[0mgamma\u001b[0m\u001b[0;34m=\u001b[0m\u001b[0;36m1\u001b[0m \u001b[0;34m/\u001b[0m \u001b[0msig\u001b[0m\u001b[0;34m)\u001b[0m\u001b[0;34m\u001b[0m\u001b[0;34m\u001b[0m\u001b[0m\n\u001b[0m\u001b[1;32m     56\u001b[0m \u001b[0mall_y\u001b[0m \u001b[0;34m=\u001b[0m \u001b[0mregression\u001b[0m\u001b[0;34m.\u001b[0m\u001b[0mpredict\u001b[0m\u001b[0;34m(\u001b[0m\u001b[0mexpanded_rbf\u001b[0m\u001b[0;34m)\u001b[0m\u001b[0;34m\u001b[0m\u001b[0;34m\u001b[0m\u001b[0m\n\u001b[1;32m     57\u001b[0m \u001b[0;34m\u001b[0m\u001b[0m\n",
      "\u001b[0;31mNameError\u001b[0m: name 'sig' is not defined"
     ]
    }
   ],
   "source": [
    "### PCW ### \n",
    "\n",
    "\n",
    "import matplotlib.pyplot as plt\n",
    "from sklearn import linear_model\n",
    "from sklearn.metrics.pairwise import rbf_kernel #get radial basis function kernel \n",
    "from sklearn.linear_model import Ridge\n",
    "import matplotlib.pyplot as plt\n",
    "import numpy as np\n",
    "\n",
    "years = range(2011, 2017)\n",
    "files = ['CRNS0101-05-%d-CA_Yosemite_Village_12_W.txt' % y for y in years]\n",
    "\n",
    "\n",
    "usecols = [1, 2, 8] #[WBANNO (station number), UTC Date, Latitude]\n",
    "\n",
    "data = [np.loadtxt(f, usecols=usecols) for f in files] #load data with relevant columns\n",
    "#vstack() function is used to stack the sequence of input arrays vertically to make a single array. \n",
    "data = np.vstack(data) \n",
    "\n",
    "print(data)\n",
    "\n",
    "# Map data from HHmm to an integer\n",
    "data[:, 1] = np.floor_divide(data[:, 1], 100) * 60 + np.mod(data[:, 1], 100)\n",
    "valid = data[:, 2] > -1000 \n",
    "\n",
    "x_train = data[valid, 1].reshape(-1, 1) #utc time in minutes \n",
    "y_train = data[valid, 2] #latitude\n",
    "\n",
    "import random \n",
    "sigma = 0.1\n",
    "alp = 0.0001\n",
    "\n",
    "number_of_rows = x_train.shape[0]\n",
    "random_indices = np.random.choice(number_of_rows, size=1000, replace=True)\n",
    "w = np.random.sample(size =1000)\n",
    "\n",
    "x_train = x_train.reshape(-1,1)\n",
    "y_train = y_train.reshape(-1,1)\n",
    "x_train = x_train[random_indices, :]\n",
    "y_train = y_train[random_indices, :]\n",
    "\n",
    "print(max(x_train), max(y_train))\n",
    "print(min(x_train), min(y_train))\n",
    "print(len(x_train),len(y_train))\n",
    "\n",
    "rbf = rbf_kernel(y_train, x_train, gamma=1.0/sigma)\n",
    "regression = Ridge(alpha=alp, fit_intercept=False)\n",
    "regression.fit(rbf, y_train)\n",
    "\n",
    "print(\"Score on training data = \", regression.score(rbf, y_train))\n",
    "all_rbf = np.linspace(-3.0, 5.0, 1000).reshape(-1, 1)\n",
    "\n",
    "# New representation:\n",
    "expanded_rbf = rbf_kernel(all_rbf, y_train, gamma=1 / sig)\n",
    "all_y = regression.predict(expanded_rbf)\n",
    "\n",
    "print(\"all_x.shape\", all_rbf.shape)\n",
    "print(\"expanded_x.shape\", expanded_rbf.shape)\n",
    "print(\"all_y.shape\", all_y.shape)\n",
    "\n",
    "# Show that the predictions tend to zero far away from inputs\n",
    "plt.figure()\n",
    "plt.plot(all_rbf, all_y)\n",
    "#plt.scatter(x_train, weights)\n",
    "\n",
    "# Zoom in and see how well predictions fit the data\n",
    "zoom_ind = (all_rbf > x_train.min()) & (all_rbf < x_train.max())\n",
    "plt.figure()\n",
    "print(len(zoom_ind))\n",
    "\n",
    "#plt.plot(all_rbf[zoom_ind], all_y[zoom_ind])\n",
    "plt.scatter(x_train, y_train)\n",
    "plt.show()"
   ]
  }
 ],
 "metadata": {
  "kernelspec": {
   "display_name": "Python 3 (ipykernel)",
   "language": "python",
   "name": "python3"
  },
  "language_info": {
   "codemirror_mode": {
    "name": "ipython",
    "version": 3
   },
   "file_extension": ".py",
   "mimetype": "text/x-python",
   "name": "python",
   "nbconvert_exporter": "python",
   "pygments_lexer": "ipython3",
   "version": "3.8.5"
  }
 },
 "nbformat": 4,
 "nbformat_minor": 5
}
