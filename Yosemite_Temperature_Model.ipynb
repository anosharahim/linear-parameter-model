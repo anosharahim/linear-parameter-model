{
  "nbformat": 4,
  "nbformat_minor": 5,
  "metadata": {
    "kernelspec": {
      "display_name": "Python 3 (ipykernel)",
      "language": "python",
      "name": "python3"
    },
    "language_info": {
      "codemirror_mode": {
        "name": "ipython",
        "version": 3
      },
      "file_extension": ".py",
      "mimetype": "text/x-python",
      "name": "python",
      "nbconvert_exporter": "python",
      "pygments_lexer": "ipython3",
      "version": "3.8.5"
    },
    "colab": {
      "name": "Yosemite_Temperature_Model.ipynb",
      "provenance": []
    }
  },
  "cells": [
    {
      "cell_type": "markdown",
      "metadata": {
        "id": "3b9d7b8b"
      },
      "source": [
        "# Yosemite Village yearly weather"
      ],
      "id": "3b9d7b8b"
    },
    {
      "cell_type": "markdown",
      "metadata": {
        "id": "1b553f35"
      },
      "source": [
        "## Part 0 - Data Preprocessing \n",
        "Temperature is cyclical, not only on a 24 hour basis but also on a yearly basis. Convert the dataset into a richer format whereby the day of the year is also captured. For example the time “20150212 1605”, can be converted into (43, 965) because the 12th of February is the 43rd day of the year, and 16:05 is the 965th minute of the day.\n",
        "\n",
        "This data covers 6 years, so split the data into a training set of the first 5 years, and a testing set of the 6th year."
      ],
      "id": "1b553f35"
    },
    {
      "cell_type": "code",
      "metadata": {
        "id": "b152beb3"
      },
      "source": [
        "import numpy as np\n",
        "import pandas as pd\n",
        "from datetime import datetime\n",
        "from datetime import date\n",
        "import matplotlib.pyplot as plt\n",
        "from sklearn.metrics import r2_score\n",
        "from sklearn.metrics.pairwise import rbf_kernel\n",
        "import sklearn.linear_model \n",
        "from sklearn.metrics import classification_report"
      ],
      "id": "b152beb3",
      "execution_count": 2,
      "outputs": []
    },
    {
      "cell_type": "code",
      "metadata": {
        "id": "c76c9a54"
      },
      "source": [
        "#Load Files\n",
        "\n",
        "years = range(2011, 2017) \n",
        "files = ['CRNS0101-05-%d-CA_Yosemite_Village_12_W.txt' % y for y in years]\n",
        "usecols = [1, 2, 8] #[UTC_time, UTC date, Temperature]\n",
        "tr = [np.loadtxt(f, usecols=usecols) for f in files]\n",
        "ts = np.loadtxt('CRNS0101-05-2016-CA_Yosemite_Village_12_W.txt', usecols=usecols)"
      ],
      "id": "c76c9a54",
      "execution_count": 3,
      "outputs": []
    },
    {
      "cell_type": "code",
      "metadata": {
        "colab": {
          "base_uri": "https://localhost:8080/"
        },
        "id": "a9051699",
        "outputId": "d28c98c5-f360-42ad-8ec0-493e610376a5"
      },
      "source": [
        "## TEST SET ## \n",
        "\n",
        "#convert dates from YYYYMMDD format to days since start of year\n",
        "ts_year = '20160101'\n",
        "ts_year_start = datetime.strptime(ts_year, '%Y%m%d') #get year start from string\n",
        "ts_date=pd.to_datetime(ts[:,0], format='%Y%m%d') #convert all floats to datetime \n",
        "ts_date.to_numpy()\n",
        "ts_days = ts_date - ts_year_start #compute days since start of year\n",
        "ts_days = ts_days / np.timedelta64(1, 'D') #convert time deltas to integers\n",
        "ts_days=ts_days.to_numpy() #convert back to numpy from pandas dataframe\n",
        "\n",
        "#convert time of day from HHMM to minutes since start of day \n",
        "hour_mins = np.divmod(ts[:,1],np.full((105408,), 100)) #creates two rows for hour and minutes each\n",
        "ts_minutes = (hour_mins[0]*60)+hour_mins[1] #add them together to get new array of time \n",
        "ts_minutes = ts_minutes.astype(int) #convert timestamps to integers\n",
        "\n",
        "#merge all columns\n",
        "test = np.column_stack((ts_minutes, ts_days,ts[:,2]))\n",
        "\n",
        " #an array of minutes, days, and temp columns\n",
        "np.random.shuffle(test)\n",
        "print('test set shape ==', test.shape)\n",
        "test\n"
      ],
      "id": "a9051699",
      "execution_count": 4,
      "outputs": [
        {
          "output_type": "stream",
          "name": "stdout",
          "text": [
            "test set shape == (105408, 3)\n"
          ]
        },
        {
          "output_type": "execute_result",
          "data": {
            "text/plain": [
              "array([[9.80e+02, 1.34e+02, 1.17e+01],\n",
              "       [1.05e+03, 3.13e+02, 1.62e+01],\n",
              "       [6.70e+02, 3.27e+02, 3.00e-01],\n",
              "       ...,\n",
              "       [8.15e+02, 6.10e+01, 7.20e+00],\n",
              "       [4.75e+02, 9.70e+01, 1.36e+01],\n",
              "       [8.70e+02, 5.40e+01, 8.10e+00]])"
            ]
          },
          "metadata": {},
          "execution_count": 4
        }
      ]
    },
    {
      "cell_type": "code",
      "metadata": {
        "colab": {
          "base_uri": "https://localhost:8080/"
        },
        "id": "c4fd4f3b",
        "outputId": "8837c5f7-9d30-4ecb-c5e1-22c4798e8103"
      },
      "source": [
        "\n",
        "## TRAIN SET ## \n",
        "\n",
        "tr_years = ['20110101','20120101','20130101','20140101','20150101']\n",
        "train_dates = [] #list for arrays of days for each year \n",
        "train_minutes = [] #list for array of day minutes for each year\n",
        "\n",
        "#convert date \n",
        "for i in range(len(tr_years)):\n",
        "\n",
        "    tr_year_start = datetime.strptime(tr_years[i], '%Y%m%d') #get year start\n",
        "    year_data = tr[i] #get data for that year\n",
        "    year_data=pd.to_datetime(year_data[:,0], format='%Y%m%d') #convert to datetime objects \n",
        "    year_data.to_numpy() \n",
        "    year_data = year_data - tr_year_start #compute days since start of year\n",
        "    year_data = year_data / np.timedelta64(1, 'D') #convert timedeltas to integers\n",
        "    year_data=year_data.to_numpy() #convert dataframe to array\n",
        "    train_dates.append(year_data) #add to train set \n",
        "    \n",
        "   \n",
        "#convert minutes\n",
        "for i in range(len(tr_years)):\n",
        "    \n",
        "    #if statements because some years have different number of data\n",
        "    if tr[i][:,1].shape == (105120,):\n",
        "        #creates to arrays of hours and minutes each\n",
        "        h_n_m = np.divmod(tr[i][:,1],np.full((105120,), 100)) \n",
        "        #add hour and minute arrays to get minutes since day start\n",
        "        train_minutes.append((h_n_m[0]*60)+h_n_m[1]) #add to train_set\n",
        "        h_n_m =0 #reset for next iter\n",
        "        \n",
        "    else: \n",
        "        h_n_m = np.divmod(tr[i][:,1],np.full((105408,), 100))\n",
        "        train_minutes.append((h_n_m[0]*60)+h_n_m[1])\n",
        "        h_n_m =0\n",
        "        \n",
        "#merge everything\n",
        "train_set = []\n",
        "for i in range(len(tr_years)):\n",
        "    train_set.append(np.column_stack((train_minutes[i], train_dates[i],tr[i][:,2])))\n",
        "    \n",
        "train_set #this is a list of 5 np arrays of minutes, dates, and temp columns each\n",
        "#turn this into a big numpy array \n",
        "train = np.vstack((train_set[0],train_set[1],train_set[2],train_set[3],train_set[4]))\n",
        "np.random.shuffle(train)\n",
        "print('training set shape ==', train.shape)\n",
        "train"
      ],
      "id": "c4fd4f3b",
      "execution_count": 5,
      "outputs": [
        {
          "output_type": "stream",
          "name": "stdout",
          "text": [
            "training set shape == (525888, 3)\n"
          ]
        },
        {
          "output_type": "execute_result",
          "data": {
            "text/plain": [
              "array([[ 9.100e+02,  1.890e+02,  1.800e+01],\n",
              "       [ 8.000e+01,  1.220e+02,  1.600e+01],\n",
              "       [ 1.120e+03,  2.200e+01, -1.200e+00],\n",
              "       ...,\n",
              "       [ 1.205e+03,  2.960e+02,  1.910e+01],\n",
              "       [ 1.295e+03,  3.270e+02,  3.300e+00],\n",
              "       [ 6.600e+02,  3.600e+01,  7.900e+00]])"
            ]
          },
          "metadata": {},
          "execution_count": 5
        }
      ]
    },
    {
      "cell_type": "markdown",
      "metadata": {
        "id": "e11d4e49"
      },
      "source": [
        "### Part 1 - Applying Radial Basis Functions \n",
        "Cover each input dimension with a list of radial basis functions. This turns the pair of inputs into a much richer representation, mapping (d,t) into (Φ₁(d), Φ₂(t)). Experiment with different numbers of radial basis functions and different widths of the radial basis function in different dimensions."
      ],
      "id": "e11d4e49"
    },
    {
      "cell_type": "code",
      "metadata": {
        "id": "0b3fb04b"
      },
      "source": [
        "#remove outlier temperature values \n",
        "train = np.delete(train, np.where((train[:,2] <= -8000))[0], axis=0)\n",
        "test = np.delete(test, np.where((test[:,2] <= -8000))[0], axis=0)\n",
        "\n",
        "n = 50000\n",
        "x_train = train[:n,[0,1]]#.reshape(-1,1)\n",
        "y_train = train[:n,[2]]#.reshape(-1, 1)\n",
        "x_test = test[:n,[0,1]]\n",
        "y_test = test[:n,2]\n",
        "print(y_test.min(),y_test.max())\n",
        "print(x_train.shape, y_train.shape)\n",
        "\n",
        "np.random.seed(123)\n",
        "\n",
        "d = 2\n",
        "m = 100\n",
        "reg_coef = 0.1\n",
        "b = 2\n",
        "n_centroids = 100\n",
        "\n",
        "def compute_sigmasq(X): \n",
        "    xcross = np.dot(X, X.T)\n",
        "    xnorms = np.repeat(np.diag(np.dot(X, X.T)).reshape(1, -1), np.size(X, axis=0), axis=0)\n",
        "    return(np.median(xnorms - 2*xcross + xnorms.T))\n",
        "\n",
        "\n",
        "def get_centroids(X, n_centroids):\n",
        "    # Find the indeces\n",
        "    idx = np.random.randint(np.size(X, axis=0), size=n_centroids)\n",
        "    # Use indeces to grab rows\n",
        "    return(X[idx, :])\n",
        "\n",
        "def cal_distance(x,cent_i):\n",
        "    ## calculate the distance between the centroid and the other elements\n",
        "    return(np.sum((x - cent_i)**2))\n",
        "\n",
        "# Find sigmasquared for the rbf\n",
        "sigmasq = compute_sigmasq(x_train)\n",
        "centroids = get_centroids(x_train, n_centroids)\n",
        "print(sigmasq)\n",
        "\n",
        "X= x_train\n",
        "\n",
        "\n",
        "## After this line my implementations ####\n",
        "phi_train = np.ones((n,1))\n",
        "for i in range(n_centroids):\n",
        "    cent_i  = centroids[i,:] # get the ith centroid\n",
        "    dist_i = np.apply_along_axis(cal_distance , 1, X,cent_i) ## distance matrix for i th centroid\n",
        "    phi_i = np.exp(-dist_i/sigmasq) ## \n",
        "    phi_i = np.reshape(phi_i,(n,1)) # dummy rehsape to (n,1)  \n",
        "    phi_train = np.hstack((phi_train,phi_i)) # horizontally stack the matrix\n",
        "\n",
        "inv_phi = np.linalg.pinv(phi_train) # get the psudoinverse for regular linear regression\n",
        "\n",
        "#linear regression coefficiet\n",
        "coefs = np.matmul(inv_phi,y_train) ## compute the weights\n",
        "coefs = np.reshape(coefs,(n_centroids+1,1))  ## dummy reshape\n",
        "\n",
        "\n",
        "## create phi test\n",
        "phi_test = np.ones((n,1))\n",
        "for i in range(n_centroids):\n",
        "    cent_i  = centroids[i,:] # get the ith centroid\n",
        "    dist_i = np.apply_along_axis(cal_distance , 1, x_test,cent_i) ## distance matrix for i th centroid\n",
        "    phi_i = np.exp(-dist_i/sigmasq)\n",
        "    phi_i = np.reshape(phi_i,(n,1)) # dummy rehsape \n",
        "    phi_test = np.hstack((phi_test,phi_i))\n",
        "\n",
        "y_predict = np.matmul(phi_test,coefs)\n",
        "\n",
        "plt.plot(y_test,y_predict,'*')\n",
        "plt.xlabel('actual')\n",
        "plt.ylabel('predicted')\n",
        "plt.title('n_centroid = ' +  str(n_centroids))"
      ],
      "id": "0b3fb04b",
      "execution_count": null,
      "outputs": []
    },
    {
      "cell_type": "code",
      "metadata": {
        "id": "Q-WqZJZn8qlI",
        "outputId": "5655f1df-eac1-46eb-8c1a-576d3184e3a6",
        "colab": {
          "base_uri": "https://localhost:8080/"
        }
      },
      "source": [
        "sigma = sig = 0.1\n",
        "alp = 0.0001\n",
        "rbf = rbf_kernel(y_train, x_train, gamma=1.0/sigma)\n",
        "regression = linear_model.Lasso(alpha=alp, fit_intercept=False)\n",
        "regression.fit(rbf, y_train)\n"
      ],
      "id": "Q-WqZJZn8qlI",
      "execution_count": 72,
      "outputs": [
        {
          "output_type": "execute_result",
          "data": {
            "text/plain": [
              "Lasso(alpha=0.0001, copy_X=True, fit_intercept=False, max_iter=1000,\n",
              "      normalize=False, positive=False, precompute=False, random_state=None,\n",
              "      selection='cyclic', tol=0.0001, warm_start=False)"
            ]
          },
          "metadata": {},
          "execution_count": 72
        }
      ]
    },
    {
      "cell_type": "code",
      "metadata": {
        "id": "WixpCRg484zW",
        "outputId": "2d9395ba-7cc6-4011-b9c1-c93d84032177",
        "colab": {
          "base_uri": "https://localhost:8080/"
        }
      },
      "source": [
        "print('R2 square ==',regression.score(rbf,y_train))\n",
        "#print(r2_score(rbf,y_train))\n",
        "#print('Classification Report', classification_report(rbf,y_train))\n",
        "all_rbf = np.linspace(-11, 28.0, 10000).reshape(-1, 1)\n",
        "print(y_train.min(), y_train.max())\n",
        "print(all_rbf.shape == y_train.shape)\n",
        "\n",
        "expanded_rbf = rbf_kernel(all_rbf, y_train, gamma=1 / sig)\n",
        "#all_y = regression.predict(expanded_rbf)\n",
        "\n",
        "#x_train"
      ],
      "id": "WixpCRg484zW",
      "execution_count": 73,
      "outputs": [
        {
          "output_type": "stream",
          "name": "stdout",
          "text": [
            "R2 square == 0.4026662810987932\n",
            "-11.4 28.2\n",
            "False\n"
          ]
        }
      ]
    },
    {
      "cell_type": "code",
      "metadata": {
        "id": "JXKmSaU6ALNo",
        "outputId": "81bd100f-a8d5-4610-8a65-2f4b1429c92a",
        "colab": {
          "base_uri": "https://localhost:8080/"
        }
      },
      "source": [
        "expanded_rbf.shape\n",
        "#plt.figure()\n",
        "#plt.plot(all_rbf, all_y)\n",
        "print(x_train.shape)\n",
        "print(y_train.shape)\n",
        "print(expanded_rbf.shape)\n",
        "print(all_rbf.shape)"
      ],
      "id": "JXKmSaU6ALNo",
      "execution_count": 68,
      "outputs": [
        {
          "output_type": "stream",
          "name": "stdout",
          "text": [
            "(10000, 1)\n",
            "(5000, 1)\n",
            "(10000, 5000)\n",
            "(10000, 1)\n"
          ]
        }
      ]
    },
    {
      "cell_type": "code",
      "metadata": {
        "colab": {
          "base_uri": "https://localhost:8080/",
          "height": 240
        },
        "id": "99784778",
        "outputId": "a98cf69b-6846-496b-d078-5e5d35f8dfdf"
      },
      "source": [
        "import numpy as np\n",
        "from scipy.stats import multivariate_normal\n",
        "import matplotlib.pyplot as plt\n",
        "\n",
        "np.random.seed(123)\n",
        "\n",
        "n = 1000\n",
        "d = 2\n",
        "m = 100\n",
        "reg_coef = 0.1\n",
        "b = 2\n",
        "n_centroids = 100\n",
        "\n",
        "\n",
        "# Explanatory variables are uniformly distributed\n",
        "#X = np.random.uniform(-4, 4, size=(n, d))\n",
        "X = train[:,[0,1]]\n",
        "\n",
        "# Response is a multivariate normal \n",
        "target_normal = multivariate_normal(mean=np.random.normal(size=d), cov=np.eye(d))\n",
        "y = target_normal.pdf(X)\n",
        "\n",
        "Xhat = np.random.uniform(-4, 4, size=(n, d))\n",
        "yactual = target_normal.pdf(Xhat)\n",
        "\n",
        "def compute_sigmasq(X): \n",
        "    xcross = np.dot(X, X.T)\n",
        "    xnorms = np.repeat(np.diag(np.dot(X, X.T)).reshape(1, -1), np.size(X, axis=0), axis=0)\n",
        "    return(np.median(xnorms - 2*xcross + xnorms.T))\n",
        "# Find sigmasquared for the rbf\n",
        "sigmasq = compute_sigmasq(X)\n",
        "\n",
        "def get_centroids(X, n_centroids):\n",
        "    # Find the indeces\n",
        "    idx = np.random.randint(np.size(X, axis=0), size=n_centroids)\n",
        "    # Use indeces to grab rows\n",
        "    return(X[idx, :])\n",
        "\n",
        "centroids = get_centroids(X, n_centroids)\n",
        "\n",
        "\n",
        "## After this line my implementations #####\n",
        "\n",
        "def cal_distance(x,cent_i):\n",
        "    ## calculate the distance between the centroid and the other elements\n",
        "    return(np.sum((x - cent_i)**2))\n",
        "\n",
        "\n",
        "phi_train = np.ones((n,1))\n",
        "for i in range(n_centroids):\n",
        "    cent_i  = centroids[i,:] # get the ith centroid\n",
        "    dist_i = np.apply_along_axis(cal_distance , 1, X,cent_i) ## distance matrix for i th centroid\n",
        "    phi_i = np.exp(-dist_i/sigmasq) ## \n",
        "    phi_i = np.reshape(phi_i,(n,1)) # dummy rehsape to (n,1)  \n",
        "    phi_train = np.hstack((phi_train,phi_i)) # horizontally stack the matrix\n",
        "\n",
        "inv_phi = np.linalg.pinv(phi_train) # get the psudoinverse for regular linear regression\n",
        "\n",
        "#linear regression coefficiet\n",
        "coefs = np.matmul(inv_phi,y) ## compute the weights\n",
        "coefs = np.reshape(coefs,(n_centroids+1,1))  ## dummy reshape\n",
        "\n",
        "## create phi test\n",
        "phi_test = np.ones((n,1))\n",
        "for i in range(n_centroids):\n",
        "    cent_i  = centroids[i,:] # get the ith centroid\n",
        "    dist_i = np.apply_along_axis(cal_distance , 1, Xhat,cent_i) ## distance matrix for i th centroid\n",
        "    phi_i = np.exp(-dist_i/sigmasq)\n",
        "    phi_i = np.reshape(phi_i,(n,1)) # dummy rehsape \n",
        "    phi_test = np.hstack((phi_test,phi_i))\n",
        "\n",
        "\n",
        "y_predict = np.matmul(phi_test,coefs)\n",
        "\n",
        "plt.plot(yactual,y_predict,'*')\n",
        "plt.xlabel('actual')\n",
        "plt.ylabel('predicted')\n",
        "plt.title('n_centroid = ' +  str(n_centroids))"
      ],
      "id": "99784778",
      "execution_count": 1,
      "outputs": [
        {
          "output_type": "error",
          "ename": "NameError",
          "evalue": "ignored",
          "traceback": [
            "\u001b[0;31m---------------------------------------------------------------------------\u001b[0m",
            "\u001b[0;31mNameError\u001b[0m                                 Traceback (most recent call last)",
            "\u001b[0;32m<ipython-input-1-91893a3af997>\u001b[0m in \u001b[0;36m<module>\u001b[0;34m()\u001b[0m\n\u001b[1;32m     15\u001b[0m \u001b[0;31m# Explanatory variables are uniformly distributed\u001b[0m\u001b[0;34m\u001b[0m\u001b[0;34m\u001b[0m\u001b[0;34m\u001b[0m\u001b[0m\n\u001b[1;32m     16\u001b[0m \u001b[0;31m#X = np.random.uniform(-4, 4, size=(n, d))\u001b[0m\u001b[0;34m\u001b[0m\u001b[0;34m\u001b[0m\u001b[0;34m\u001b[0m\u001b[0m\n\u001b[0;32m---> 17\u001b[0;31m \u001b[0mX\u001b[0m \u001b[0;34m=\u001b[0m \u001b[0mtrain\u001b[0m\u001b[0;34m[\u001b[0m\u001b[0;34m:\u001b[0m\u001b[0;34m,\u001b[0m\u001b[0;34m[\u001b[0m\u001b[0;36m0\u001b[0m\u001b[0;34m,\u001b[0m\u001b[0;36m1\u001b[0m\u001b[0;34m]\u001b[0m\u001b[0;34m]\u001b[0m\u001b[0;34m\u001b[0m\u001b[0;34m\u001b[0m\u001b[0m\n\u001b[0m\u001b[1;32m     18\u001b[0m \u001b[0;34m\u001b[0m\u001b[0m\n\u001b[1;32m     19\u001b[0m \u001b[0;31m# Response is a multivariate normal\u001b[0m\u001b[0;34m\u001b[0m\u001b[0;34m\u001b[0m\u001b[0;34m\u001b[0m\u001b[0m\n",
            "\u001b[0;31mNameError\u001b[0m: name 'train' is not defined"
          ]
        }
      ]
    },
    {
      "cell_type": "markdown",
      "metadata": {
        "id": "d2f82b68"
      },
      "source": [
        "### Part 2 - Build Linear Parameter Model \n",
        "Using this new representation, build a linear parameter model that captures both seasonal variations and daily variations."
      ],
      "id": "d2f82b68"
    },
    {
      "cell_type": "code",
      "metadata": {
        "id": "12823742"
      },
      "source": [
        ""
      ],
      "id": "12823742",
      "execution_count": null,
      "outputs": []
    },
    {
      "cell_type": "markdown",
      "metadata": {
        "id": "94d7eb6e"
      },
      "source": [
        "## Part 3 - Visualization\n",
        "- Create two plots, one showing the time-of-day contribution, and one showing the time-of-year contribution.\n",
        "- (Optional) Make a 3D plot showing temperature as a function of (day, time). Make sure to label your axes!"
      ],
      "id": "94d7eb6e"
    },
    {
      "cell_type": "code",
      "metadata": {
        "id": "1c587769"
      },
      "source": [
        ""
      ],
      "id": "1c587769",
      "execution_count": null,
      "outputs": []
    },
    {
      "cell_type": "markdown",
      "metadata": {
        "id": "ea517c56"
      },
      "source": [
        "## Part 4 - Evaluation \n",
        "Using R², quantify how your model performs on the testing data if you:\n",
        "- Train with just the daily component of the model\n",
        "- Train with just the yearly component of the model\n",
        "- Train with the full model."
      ],
      "id": "ea517c56"
    },
    {
      "cell_type": "code",
      "metadata": {
        "scrolled": true,
        "colab": {
          "base_uri": "https://localhost:8080/",
          "height": 780
        },
        "id": "e64a8239",
        "outputId": "f8254be7-13aa-40e2-e86b-2f405d74663b"
      },
      "source": [
        "### PCW ### \n",
        "\n",
        "\n",
        "import matplotlib.pyplot as plt\n",
        "from sklearn import linear_model\n",
        "from sklearn.metrics.pairwise import rbf_kernel #get radial basis function kernel \n",
        "from sklearn.linear_model import Ridge\n",
        "import matplotlib.pyplot as plt\n",
        "import numpy as np\n",
        "\n",
        "years = range(2011, 2017)\n",
        "files = ['CRNS0101-05-%d-CA_Yosemite_Village_12_W.txt' % y for y in years]\n",
        "\n",
        "\n",
        "usecols = [1, 2, 8] #[WBANNO (station number), UTC Date, Latitude]\n",
        "\n",
        "data = [np.loadtxt(f, usecols=usecols) for f in files] #load data with relevant columns\n",
        "#vstack() function is used to stack the sequence of input arrays vertically to make a single array. \n",
        "data = np.vstack(data) \n",
        "\n",
        "print(data)\n",
        "\n",
        "# Map data from HHmm to an integer\n",
        "data[:, 1] = np.floor_divide(data[:, 1], 100) * 60 + np.mod(data[:, 1], 100)\n",
        "valid = data[:, 2] > -1000 \n",
        "\n",
        "x_train = data[valid, 1].reshape(-1, 1) #utc time in minutes \n",
        "y_train = data[valid, 2] #latitude\n",
        "\n",
        "import random \n",
        "sigma = 0.1\n",
        "alp = 0.0001\n",
        "\n",
        "number_of_rows = x_train.shape[0]\n",
        "random_indices = np.random.choice(number_of_rows, size=1000, replace=True)\n",
        "w = np.random.sample(size =1000)\n",
        "\n",
        "x_train = x_train.reshape(-1,1)\n",
        "y_train = y_train.reshape(-1,1)\n",
        "x_train = x_train[random_indices, :]\n",
        "y_train = y_train[random_indices, :]\n",
        "\n",
        "print(max(x_train), max(y_train))\n",
        "print(min(x_train), min(y_train))\n",
        "print(len(x_train),len(y_train))\n",
        "\n",
        "rbf = rbf_kernel(y_train, x_train, gamma=1.0/sigma)\n",
        "regression = Ridge(alpha=alp, fit_intercept=False)\n",
        "regression.fit(rbf, y_train)\n",
        "\n",
        "print(\"Score on training data = \", regression.score(rbf, y_train))\n",
        "all_rbf = np.linspace(-3.0, 5.0, 1000).reshape(-1, 1)\n",
        "\n",
        "# New representation:\n",
        "expanded_rbf = rbf_kernel(all_rbf, y_train, gamma=1 / sig)\n",
        "all_y = regression.predict(expanded_rbf)\n",
        "\n",
        "print(\"all_x.shape\", all_rbf.shape)\n",
        "print(\"expanded_x.shape\", expanded_rbf.shape)\n",
        "print(\"all_y.shape\", all_y.shape)\n",
        "\n",
        "# Show that the predictions tend to zero far away from inputs\n",
        "plt.figure()\n",
        "plt.plot(all_rbf, all_y)\n",
        "#plt.scatter(x_train, weights)\n",
        "\n",
        "# Zoom in and see how well predictions fit the data\n",
        "zoom_ind = (all_rbf > x_train.min()) & (all_rbf < x_train.max())\n",
        "plt.figure()\n",
        "print(len(zoom_ind))\n",
        "\n",
        "#plt.plot(all_rbf[zoom_ind], all_y[zoom_ind])\n",
        "plt.scatter(x_train, y_train)\n",
        "plt.show()"
      ],
      "id": "e64a8239",
      "execution_count": 39,
      "outputs": [
        {
          "output_type": "stream",
          "name": "stdout",
          "text": [
            "[[ 2.0110101e+07  5.0000000e+00 -6.4000000e+00]\n",
            " [ 2.0110101e+07  1.0000000e+01 -6.5000000e+00]\n",
            " [ 2.0110101e+07  1.5000000e+01 -6.5000000e+00]\n",
            " ...\n",
            " [ 2.0161231e+07  2.3500000e+03  0.0000000e+00]\n",
            " [ 2.0161231e+07  2.3550000e+03 -1.0000000e-01]\n",
            " [ 2.0170101e+07  0.0000000e+00 -1.0000000e-01]]\n",
            "[1435.] [27.3]\n",
            "[5.] [-10.1]\n",
            "1000 1000\n",
            "Score on training data =  -1.2247223216349188\n",
            "all_x.shape (1000, 1)\n",
            "expanded_x.shape (1000, 1000)\n",
            "all_y.shape (1000, 1)\n",
            "1000\n"
          ]
        },
        {
          "output_type": "display_data",
          "data": {
            "image/png": "[encoded data removed]",
            "text/plain": [
              "<Figure size 432x288 with 1 Axes>"
            ]
          },
          "metadata": {
            "needs_background": "light"
          }
        },
        {
          "output_type": "display_data",
          "data": {
            "image/png": "[encoded data removed]",
            "text/plain": [
              "<Figure size 432x288 with 1 Axes>"
            ]
          },
          "metadata": {
            "needs_background": "light"
          }
        }
      ]
    },
    {
      "cell_type": "code",
      "metadata": {
        "id": "WZUfYEi3-e3N",
        "outputId": "08a653ca-8f56-4730-e314-363aa851ad01",
        "colab": {
          "base_uri": "https://localhost:8080/"
        }
      },
      "source": [
        "all_rbf.shape\n"
      ],
      "id": "WZUfYEi3-e3N",
      "execution_count": 41,
      "outputs": [
        {
          "output_type": "execute_result",
          "data": {
            "text/plain": [
              "(1000, 1)"
            ]
          },
          "metadata": {},
          "execution_count": 41
        }
      ]
    },
    {
      "cell_type": "code",
      "metadata": {
        "id": "RisCURqU-pOT",
        "outputId": "b7613b80-eddf-4bf1-d347-013664b50365",
        "colab": {
          "base_uri": "https://localhost:8080/"
        }
      },
      "source": [
        "print(y_train.min(), y_train.max())\n",
        "print(all_rbf.min(),all_rbf.max())\n"
      ],
      "id": "RisCURqU-pOT",
      "execution_count": 45,
      "outputs": [
        {
          "output_type": "stream",
          "name": "stdout",
          "text": [
            "-10.1 27.3\n",
            "-3.0 5.0\n"
          ]
        }
      ]
    },
    {
      "cell_type": "code",
      "metadata": {
        "id": "U8ajYJkA-5DD"
      },
      "source": [
        ""
      ],
      "id": "U8ajYJkA-5DD",
      "execution_count": null,
      "outputs": []
    }
  ]
}